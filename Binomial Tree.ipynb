{
 "cells": [
  {
   "cell_type": "code",
   "execution_count": 1,
   "id": "1ec4be74-338e-419f-a092-a47ded88a4ed",
   "metadata": {},
   "outputs": [],
   "source": [
    "import datetime as dt\n",
    "import pandas as pd\n",
    "from pandas_datareader import data as pdr\n",
    "import yfinance as yf\n",
    "import numpy as np\n",
    "import matplotlib.pyplot as plt"
   ]
  },
  {
   "cell_type": "code",
   "execution_count": 2,
   "id": "fb2323d2-30a0-40ba-b439-0f1a69c3524f",
   "metadata": {},
   "outputs": [
    {
     "name": "stderr",
     "output_type": "stream",
     "text": [
      "[*********************100%%**********************]  1 of 1 completed\n"
     ]
    }
   ],
   "source": [
    "yf.pdr_override()\n",
    "df = pdr.get_data_yahoo([\"JPM\"])"
   ]
  },
  {
   "cell_type": "code",
   "execution_count": 3,
   "id": "d4c8e831-3e17-4566-abc8-6d0cf3ccf32c",
   "metadata": {},
   "outputs": [
    {
     "name": "stdout",
     "output_type": "stream",
     "text": [
      "u= 1.0170334270833978\n",
      "d= 0.9832518512864956\n",
      "p= 0.5120631463504347\n"
     ]
    }
   ],
   "source": [
    "close=df.Close['2023-5-1':'2024-5-1']\n",
    "log_ret=np.log(close)-np.log(close.shift(1))\n",
    "mean = log_ret.mean()*252\n",
    "std = log_ret.std()*np.sqrt(252)\n",
    "rate=5.5/100\n",
    "time=1\n",
    "n =100\n",
    "u=np.exp(std*np.sqrt(time/n))\n",
    "d=np.exp(-std*np.sqrt(time/n))\n",
    "p=(np.exp(rate*time/n)-d)/(u-d)\n",
    "\n",
    "print(\"u=\",u)\n",
    "print(\"d=\",d)\n",
    "print(\"p=\",p)"
   ]
  },
  {
   "cell_type": "code",
   "execution_count": 4,
   "id": "aa68382b",
   "metadata": {},
   "outputs": [
    {
     "data": {
      "text/plain": [
       "Date\n",
       "2024-04-25    193.369995\n",
       "2024-04-26    193.490005\n",
       "2024-04-29    193.279999\n",
       "2024-04-30    191.740005\n",
       "2024-05-01    191.860001\n",
       "Name: Close, dtype: float64"
      ]
     },
     "execution_count": 4,
     "metadata": {},
     "output_type": "execute_result"
    }
   ],
   "source": [
    "close.tail()"
   ]
  },
  {
   "cell_type": "code",
   "execution_count": 5,
   "id": "fc7a5f80-32ad-4b7e-a51f-41cf275bab50",
   "metadata": {},
   "outputs": [],
   "source": [
    "s0= 191.860001"
   ]
  },
  {
   "cell_type": "code",
   "execution_count": 6,
   "id": "f017f54c-681e-400e-a9d1-af3e3f43d89c",
   "metadata": {},
   "outputs": [],
   "source": [
    "import numpy as np\n",
    "def binomial_tree(n,d,u,S0):\n",
    "    stock_tree = np.zeros((2*n-1,n))\n",
    "    lst_ = list(range(n,2*n-1))\n",
    "    \n",
    "    for i in range(n+1):\n",
    "            for j in range(i+1):\n",
    "                if i+j ==n-1:\n",
    "                    stock_tree[i][j]=S0*(u)**j\n",
    "                    stock_tree[j][i]=S0*(u)**i\n",
    "    for i in range(len(lst_)):\n",
    "     \n",
    "        stock_tree[lst_[i]][i+1]=S0*(d)**(i+1)\n",
    "        \n",
    "    for i in range(2*n-1):\n",
    "        for j in range(n):\n",
    "            if stock_tree[i][j]!=0 and j+2<n:\n",
    "                stock_tree[i][j+2]=stock_tree[i][j]\n",
    "        \n",
    "    return np.round(stock_tree,3)"
   ]
  },
  {
   "cell_type": "code",
   "execution_count": 7,
   "id": "305358b1-af01-4d57-a108-0ce2aacdb960",
   "metadata": {},
   "outputs": [
    {
     "data": {
      "text/plain": [
       "array([[   0.   ,    0.   ,    0.   , ...,    0.   ,    0.   , 1021.344],\n",
       "       [   0.   ,    0.   ,    0.   , ...,    0.   , 1004.238,    0.   ],\n",
       "       [   0.   ,    0.   ,    0.   , ...,  987.419,    0.   ,  987.419],\n",
       "       ...,\n",
       "       [   0.   ,    0.   ,    0.   , ...,   37.279,    0.   ,   37.279],\n",
       "       [   0.   ,    0.   ,    0.   , ...,    0.   ,   36.655,    0.   ],\n",
       "       [   0.   ,    0.   ,    0.   , ...,    0.   ,    0.   ,   36.041]])"
      ]
     },
     "execution_count": 7,
     "metadata": {},
     "output_type": "execute_result"
    }
   ],
   "source": [
    "binomial_tree(n,d,u,s0)"
   ]
  },
  {
   "cell_type": "code",
   "execution_count": 8,
   "id": "f8747068-f8cd-452c-8312-9502bc0f2edf",
   "metadata": {},
   "outputs": [],
   "source": [
    "def call_europe(n,d,u,s0,k,rate,time):\n",
    "    pricing = binomial_tree(n,d,u,s0)\n",
    "    matrix1 = np.zeros((pricing.shape))\n",
    "    #k=120 #strike price\n",
    "    price_pred = pricing\n",
    "    for i in range(pricing.shape[0]):\n",
    "    \n",
    "        matrix1[i][0]=max(price_pred[i][-1]-k,0)\n",
    "    matrix2=matrix1\n",
    "\n",
    "    p=(np.exp(rate*time/(n-1))-d)/(u-d)\n",
    "    for i in range(1,matrix2.shape[1]):\n",
    "        for j in range(1,matrix2.shape[0]-1):\n",
    "            if j%2==0 and i%2==0 and j>=i:\n",
    "                if j+i<=(pricing.shape[1]-1)*2:# and j+i>=min(i,j)*2:\n",
    "                    #print(j,i,j+1,j-1,i-1)\n",
    "                    matrix2[j,i]=((1-p)*matrix2[j+1,i-1]+(p)*matrix2[j-1,i-1])*np.exp(-rate*time/(n-1))\n",
    "            elif j%2!=0 and i%2!=0 and j>=i:\n",
    "                if j+i<=(pricing.shape[1]-1)*2:# and j+i>=min(i,j)*2:\n",
    "                    #print(j,i,j+1,j-1,i-1)\n",
    "                    matrix2[j,i]=(matrix2[j+1,i-1]*(1-p)+(p)*matrix2[j-1,i-1])*np.exp(-rate*time/(n-1))\n",
    "\n",
    "    print('price call european is', matrix2[n-1,-1])"
   ]
  },
  {
   "cell_type": "code",
   "execution_count": 9,
   "id": "62f723b3-cfdd-40d2-9a4e-5810849b6b02",
   "metadata": {},
   "outputs": [
    {
     "name": "stdout",
     "output_type": "stream",
     "text": [
      "price call european is 19.44211043229868\n"
     ]
    }
   ],
   "source": [
    "call_europe(n+1,d,u,s0,190,rate,time)"
   ]
  },
  {
   "cell_type": "code",
   "execution_count": 10,
   "id": "5ce73491-4304-4e56-931f-8c651f1b606a",
   "metadata": {},
   "outputs": [],
   "source": [
    "def eu_call_barrier(n,d,u,s0,k,rate,time):\n",
    "    barrier = 0.4567*s0\n",
    "    print('barrier is', barrier)\n",
    "    pricing = binomial_tree(n,d,u,s0)\n",
    "    for i in range(pricing.shape[0]):\n",
    "        for j in range(pricing.shape[1]):\n",
    "            if pricing[i][j]<barrier:\n",
    "                pricing[i][j]=0\n",
    "    matrix1 = np.zeros((pricing.shape))\n",
    "    #k=120 #strike price\n",
    "    price_pred = pricing\n",
    "    for i in range(pricing.shape[0]):\n",
    "    \n",
    "        matrix1[i][0]=max(price_pred[i][-1]-k,0)\n",
    "    matrix2=matrix1\n",
    "\n",
    "    p=(np.exp(rate*time/(n-1))-d)/(u-d)\n",
    "    for i in range(1,matrix2.shape[1]):\n",
    "        for j in range(1,matrix2.shape[0]-1):\n",
    "            if j%2==0 and i%2==0 and j>=i:\n",
    "                if j+i<=(pricing.shape[1]-1)*2:# and j+i>=min(i,j)*2:\n",
    "                    #print(j,i,j+1,j-1,i-1)\n",
    "                    matrix2[j,i]=((1-p)*matrix2[j+1,i-1]+(p)*matrix2[j-1,i-1])*np.exp(-rate*time/(n-1))\n",
    "            elif j%2!=0 and i%2!=0 and j>=i:\n",
    "                if j+i<=(pricing.shape[1]-1)*2:# and j+i>=min(i,j)*2:\n",
    "                    #print(j,i,j+1,j-1,i-1)\n",
    "                    matrix2[j,i]=(matrix2[j+1,i-1]*(1-p)+(p)*matrix2[j-1,i-1])*np.exp(-rate*time/(n-1))\n",
    "    print('price call european w/ barrier is', matrix2[n-1,-1])"
   ]
  },
  {
   "cell_type": "code",
   "execution_count": 11,
   "id": "b8c1d7cd-10c3-4c45-adb4-a8e2300089bd",
   "metadata": {},
   "outputs": [
    {
     "name": "stdout",
     "output_type": "stream",
     "text": [
      "barrier is 87.6224624567\n",
      "price call european w/ barrier is 19.44211043229868\n"
     ]
    }
   ],
   "source": [
    "eu_call_barrier(n+1,d,u,s0,190,rate,time)"
   ]
  },
  {
   "cell_type": "code",
   "execution_count": 12,
   "id": "542d38f1-97e7-4966-a737-b31a3a503c0f",
   "metadata": {},
   "outputs": [],
   "source": [
    "def eu_put(n,d,u,s0,k,rate,time):\n",
    "    pricing = binomial_tree(n,d,u,s0)\n",
    "    eu_put = np.zeros((pricing.shape[0],pricing.shape[1]))\n",
    "    for i in range(len(eu_put)):\n",
    "        if pricing[i][-1]!=0:\n",
    "            eu_put[i][0]=max(k-pricing[i][-1],0)\n",
    "        else:\n",
    "            eu_put[i][0]=0\n",
    "    matrix2=eu_put\n",
    "\n",
    "    p=(np.exp(rate*time/(n-1))-d)/(u-d)\n",
    "    for i in range(1,matrix2.shape[1]):\n",
    "        for j in range(1,matrix2.shape[0]-1):\n",
    "            if j%2==0 and i%2==0 and j>=i:\n",
    "                if j+i<=(pricing.shape[1]-1)*2:# and j+i>=min(i,j)*2:\n",
    "                    #print(j,i,j+1,j-1,i-1)\n",
    "                    matrix2[j,i]=((1-p)*matrix2[j+1,i-1]+(p)*matrix2[j-1,i-1])*np.exp(-rate*time/(n-1))\n",
    "            elif j%2!=0 and i%2!=0 and j>=i:\n",
    "                if j+i<=(pricing.shape[1]-1)*2:# and j+i>=min(i,j)*2:\n",
    "                    #print(j,i,j+1,j-1,i-1)\n",
    "                    matrix2[j,i]=(matrix2[j+1,i-1]*(1-p)+(p)*matrix2[j-1,i-1])*np.exp(-rate*time/(n-1))\n",
    "    #print(p)\n",
    "    print(\"price of eu put is\", matrix2[n-1,-1])"
   ]
  },
  {
   "cell_type": "code",
   "execution_count": 13,
   "id": "cd86bc23-be48-4f12-95b6-54c94fa5dab9",
   "metadata": {},
   "outputs": [
    {
     "name": "stdout",
     "output_type": "stream",
     "text": [
      "price of eu put is 7.4142819935709054\n"
     ]
    }
   ],
   "source": [
    "eu_put(n+1,d,u,s0,190,rate,time)"
   ]
  },
  {
   "cell_type": "code",
   "execution_count": 17,
   "id": "c0ca31b7-6bfd-4f22-8bc8-761ad5da65d2",
   "metadata": {},
   "outputs": [],
   "source": [
    "def eu_put_barrier(n,d,u,s0,k,rate,time):\n",
    "    pricing = binomial_tree(n,d,u,s0)\n",
    "    barrier = 0.4567*s0 #170\n",
    "    print('barrier is', barrier)\n",
    "    for i in range(pricing.shape[0]):\n",
    "        for j in range(pricing.shape[1]):\n",
    "            if pricing[i][j]<barrier:\n",
    "                pricing[i][j]=0\n",
    "    eu_put = np.zeros((pricing.shape[0],pricing.shape[1]))\n",
    "    for i in range(len(eu_put)):\n",
    "        if pricing[i][-1]!=0:\n",
    "            eu_put[i][0]=max(k-pricing[i][-1],0)\n",
    "        else:\n",
    "            eu_put[i][0]=0\n",
    "    matrix2=eu_put\n",
    "\n",
    "    p=(np.exp(rate*time/(n-1))-d)/(u-d)\n",
    "    for i in range(1,matrix2.shape[1]):\n",
    "        for j in range(1,matrix2.shape[0]-1):\n",
    "            if j%2==0 and i%2==0 and j>=i:\n",
    "                if j+i<=(pricing.shape[1]-1)*2:# and j+i>=min(i,j)*2:\n",
    "                    #print(j,i,j+1,j-1,i-1)\n",
    "                    matrix2[j,i]=((1-p)*matrix2[j+1,i-1]+(p)*matrix2[j-1,i-1])*np.exp(-rate*time/(n-1))\n",
    "            elif j%2!=0 and i%2!=0 and j>=i:\n",
    "                if j+i<=(pricing.shape[1]-1)*2:# and j+i>=min(i,j)*2:\n",
    "                    #print(j,i,j+1,j-1,i-1)\n",
    "                    matrix2[j,i]=(matrix2[j+1,i-1]*(1-p)+(p)*matrix2[j-1,i-1])*np.exp(-rate*time/(n-1))\n",
    "    #print(p)\n",
    "    print(\"price of eu put w/ barrier is\", matrix2[n-1,-1])"
   ]
  },
  {
   "cell_type": "code",
   "execution_count": 18,
   "id": "ada583a8-23f2-497c-a079-0c9ef01f2bdf",
   "metadata": {},
   "outputs": [
    {
     "name": "stdout",
     "output_type": "stream",
     "text": [
      "barrier is 87.6224624567\n",
      "price of eu put w/ barrier is 7.414257062237618\n"
     ]
    }
   ],
   "source": [
    "eu_put_barrier(n+1,d,u,s0,190,rate,time)"
   ]
  },
  {
   "cell_type": "code",
   "execution_count": 19,
   "id": "fb87a0f1",
   "metadata": {},
   "outputs": [],
   "source": [
    "def am_call(n,d,u,s0,k,rate,time):\n",
    "    price = binomial_tree(n,d,u,s0)[:,-1]\n",
    "    pricing = binomial_tree(n,d,u,s0)\n",
    "    payoff=[]\n",
    "    for i in range(len(price)):\n",
    "        if price[i]==0:\n",
    "            payoff.append(0)\n",
    "        else:\n",
    "            payoff.append(max(price[i]-k,0))\n",
    "    p=(np.exp(rate*time/(n-1))-d)/(u-d)\n",
    "    am_call = np.zeros((2*n-1,n))\n",
    "    for i in range(len(payoff)):\n",
    "        am_call[i][0]=payoff[i]\n",
    "        \n",
    "    for i in range(1,am_call.shape[1]):\n",
    "        for j in range(1,am_call.shape[0]-1):\n",
    "            if j+i<=(n-1)*2 and pricing[j][pricing.shape[1]-i-1]!=0:\n",
    "                am_call[j,i]=max(((1-p)*am_call[j+1,i-1]+(p)*am_call[j-1,i-1])*np.exp(-rate*time/(n-1)),\n",
    "                                 max(pricing[j][pricing.shape[1]-i-1]-k,0))\n",
    "\n",
    "    print('price of american call is',am_call[n-1,-1])"
   ]
  },
  {
   "cell_type": "code",
   "execution_count": 20,
   "id": "0608d1d2",
   "metadata": {
    "scrolled": true
   },
   "outputs": [
    {
     "name": "stdout",
     "output_type": "stream",
     "text": [
      "price of american call is 19.44211043229868\n"
     ]
    }
   ],
   "source": [
    "am_call(n+1,d,u,s0,190,rate,time)"
   ]
  },
  {
   "cell_type": "code",
   "execution_count": 21,
   "id": "a05154dd",
   "metadata": {},
   "outputs": [],
   "source": [
    "def am_call_barrier(n,d,u,s0,k,rate,time):\n",
    "    price = binomial_tree(n,d,u,s0)[:,-1]\n",
    "    pricing = binomial_tree(n,d,u,s0)\n",
    "    barrier = 0.4567*s0  \n",
    "    #print(np.round(pricing,1))\n",
    "    print('barrier is',barrier)\n",
    "    for i in range(pricing.shape[0]):\n",
    "        for j in range(pricing.shape[1]):\n",
    "            if pricing[i][j]<barrier:\n",
    "                pricing[i][j]=0\n",
    "    #print(np.round(pricing,1))\n",
    "    payoff=[]\n",
    "    for i in range(len(price)):\n",
    "        if price[i]==0 and price[i]<barrier:\n",
    "            payoff.append(0)\n",
    "        else:\n",
    "            payoff.append(max(price[i]-k,0))\n",
    "    #print(payoff)\n",
    "    p=(np.exp(rate*time/(n-1))-d)/(u-d)\n",
    "    am_call = np.zeros((2*n-1,n))\n",
    "    for i in range(len(payoff)):\n",
    "        am_call[i][0]=payoff[i]\n",
    "        \n",
    "    for i in range(1,am_call.shape[1]):\n",
    "        for j in range(1,am_call.shape[0]-1):\n",
    "            if j+i<=(n-1)*2 and pricing[j][pricing.shape[1]-i-1]!=0:\n",
    "                am_call[j,i]=max(((1-p)*am_call[j+1,i-1]+(p)*am_call[j-1,i-1])*np.exp(-rate*time/(n-1)),\n",
    "                                 max(pricing[j][pricing.shape[1]-i-1]-k,0))\n",
    "    print('price of american call w/ barrier is',am_call[n-1,-1])"
   ]
  },
  {
   "cell_type": "code",
   "execution_count": 22,
   "id": "88e9bd5e",
   "metadata": {},
   "outputs": [
    {
     "name": "stdout",
     "output_type": "stream",
     "text": [
      "barrier is 87.6224624567\n",
      "price of american call w/ barrier is 19.44211043229868\n"
     ]
    }
   ],
   "source": [
    "am_call_barrier(n+1,d,u,s0,190,rate,time)"
   ]
  },
  {
   "cell_type": "code",
   "execution_count": 23,
   "id": "7b352178",
   "metadata": {},
   "outputs": [],
   "source": [
    "def am_put(n,d,u,s0,k,rate,time):\n",
    "    price = binomial_tree(n,d,u,s0)[:,-1]\n",
    "    pricing = binomial_tree(n,d,u,s0)\n",
    "    payoff=[]\n",
    "    for i in range(len(price)):\n",
    "        if price[i]==0:\n",
    "            payoff.append(0)\n",
    "        else:\n",
    "            payoff.append(max(k-price[i],0))\n",
    "    p=(np.exp(rate*time/(n-1))-d)/(u-d)\n",
    "    am_put = np.zeros((2*n-1,n))\n",
    "    for i in range(len(payoff)):\n",
    "        am_put[i][0]=payoff[i]\n",
    "        \n",
    "    for i in range(1,am_put.shape[1]):\n",
    "        for j in range(1,am_put.shape[0]-1):\n",
    "            if j+i<=(n-1)*2 and pricing[j][pricing.shape[1]-i-1]!=0:\n",
    "                am_put[j,i]=max(((1-p)*am_put[j+1,i-1]+(p)*am_put[j-1,i-1])*np.exp(-rate*time/(n-1)),\n",
    "                                max(k-pricing[j][pricing.shape[1]-i-1],0))\n",
    "\n",
    "    print('price of american put is',am_put[n-1,-1])"
   ]
  },
  {
   "cell_type": "code",
   "execution_count": 24,
   "id": "564d0a9d",
   "metadata": {},
   "outputs": [
    {
     "name": "stdout",
     "output_type": "stream",
     "text": [
      "price of american put is 8.383400092861265\n"
     ]
    }
   ],
   "source": [
    "am_put(n+1,d,u,s0,190,rate,time)"
   ]
  },
  {
   "cell_type": "code",
   "execution_count": 25,
   "id": "fb1d0f4e",
   "metadata": {},
   "outputs": [],
   "source": [
    "def am_put_barrier(n,d,u,s0,k,rate,time):\n",
    "    price = binomial_tree(n,d,u,s0)[:,-1]\n",
    "    pricing = binomial_tree(n,d,u,s0)\n",
    "    barrier = 0.4567*s0\n",
    "    print('barrier is',barrier)\n",
    "    for i in range(pricing.shape[0]):\n",
    "        for j in range(pricing.shape[1]):\n",
    "            if pricing[i][j]<barrier:\n",
    "                pricing[i][j]=0\n",
    "    payoff=[]\n",
    "    for i in range(len(price)):\n",
    "        if price[i]==0 or price[i]<barrier:\n",
    "            payoff.append(0)\n",
    "        else:\n",
    "            payoff.append(max(k-price[i],0))\n",
    "            \n",
    "    p=(np.exp(rate*time/(n-1))-d)/(u-d)\n",
    "    am_put = np.zeros((2*n-1,n))\n",
    "    for i in range(len(payoff)):\n",
    "        am_put[i][0]=payoff[i]\n",
    "        \n",
    "    for i in range(1,am_put.shape[1]):\n",
    "        for j in range(1,am_put.shape[0]-1):\n",
    "            if j+i<=(n-1)*2 and pricing[j][pricing.shape[1]-i-1]!=0:\n",
    "                am_put[j,i]=max(((1-p)*am_put[j+1,i-1]+(p)*am_put[j-1,i-1])*np.exp(-rate*time/(n-1)),\n",
    "                                max(k-pricing[j][pricing.shape[1]-i-1],0))\n",
    "    print('price of american put w/ barrier is',am_put[n-1,-1])"
   ]
  },
  {
   "cell_type": "code",
   "execution_count": 26,
   "id": "c6696806",
   "metadata": {},
   "outputs": [
    {
     "name": "stdout",
     "output_type": "stream",
     "text": [
      "barrier is 87.6224624567\n",
      "price of american put w/ barrier is 8.383400092861265\n"
     ]
    }
   ],
   "source": [
    "am_put_barrier(n+1,d,u,s0,190,rate,time)"
   ]
  },
  {
   "cell_type": "code",
   "execution_count": null,
   "id": "866e7cad",
   "metadata": {},
   "outputs": [],
   "source": []
  }
 ],
 "metadata": {
  "kernelspec": {
   "display_name": "Python 3 (ipykernel)",
   "language": "python",
   "name": "python3"
  },
  "language_info": {
   "codemirror_mode": {
    "name": "ipython",
    "version": 3
   },
   "file_extension": ".py",
   "mimetype": "text/x-python",
   "name": "python",
   "nbconvert_exporter": "python",
   "pygments_lexer": "ipython3",
   "version": "3.9.7"
  }
 },
 "nbformat": 4,
 "nbformat_minor": 5
}
